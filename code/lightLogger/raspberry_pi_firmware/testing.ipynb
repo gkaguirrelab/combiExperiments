{
 "cells": [
  {
   "cell_type": "code",
   "execution_count": null,
   "metadata": {},
   "outputs": [],
   "source": [
    "import ctypes\n",
    "import numpy as np\n",
    "import utility.Pi_util\n",
    "import importlib\n",
    "import pandas as pd\n",
    "import matplotlib.pyplot as plt"
   ]
  },
  {
   "cell_type": "code",
   "execution_count": null,
   "metadata": {},
   "outputs": [],
   "source": [
    "importlib.reload(utility.Pi_util)\n",
    "path: str = '/Volumes/EXTERNAL1/allSensorsCPP/'\n",
    "results: dict = utility.Pi_util.parse_chunks_binary(path)"
   ]
  },
  {
   "cell_type": "code",
   "execution_count": null,
   "metadata": {},
   "outputs": [],
   "source": [
    "print(results)"
   ]
  },
  {
   "cell_type": "code",
   "execution_count": null,
   "metadata": {},
   "outputs": [],
   "source": [
    "performance_df: pd.DataFrame = results['performance_df']\n",
    "chunks: list = results['chunks']\n",
    "\n",
    "# Iterate over the chunks \n",
    "for chunk in chunks:\n",
    "\n",
    "    # Retrieve the difference sensors' data \n",
    "    #ms_data: tuple = chunk['M'] \n",
    "    world_data: np.ndarray = chunk['W']\n",
    "    #pupil_data: list = chunk['P']\n",
    "    #sunglasses_data: np.ndarray = chunk['S']\n",
    "\n",
    "    #print(world_data.shape)\n",
    "    #print(pupil_data.shape)\n",
    "    for i in range(100, 200, 25):\n",
    "        plt.imshow((world_data[i]), cmap='gray')\n",
    "        plt.show()\n",
    "\n",
    "        plt.hist(world_data[i].flatten())\n",
    "        plt.show()\n",
    "\n"
   ]
  },
  {
   "cell_type": "code",
   "execution_count": null,
   "metadata": {},
   "outputs": [],
   "source": []
  },
  {
   "cell_type": "code",
   "execution_count": null,
   "metadata": {},
   "outputs": [],
   "source": []
  }
 ],
 "metadata": {
  "kernelspec": {
   "display_name": "Python 3",
   "language": "python",
   "name": "python3"
  },
  "language_info": {
   "codemirror_mode": {
    "name": "ipython",
    "version": 3
   },
   "file_extension": ".py",
   "mimetype": "text/x-python",
   "name": "python",
   "nbconvert_exporter": "python",
   "pygments_lexer": "ipython3",
   "version": "3.10.0"
  }
 },
 "nbformat": 4,
 "nbformat_minor": 2
}
