{
 "cells": [
  {
   "cell_type": "code",
   "execution_count": 1,
   "metadata": {},
   "outputs": [],
   "source": [
    "import ctypes\n",
    "import numpy as np\n",
    "import utility.Pi_util\n",
    "import importlib\n",
    "import pandas as pd\n",
    "import matplotlib.pyplot as plt"
   ]
  },
  {
   "cell_type": "code",
   "execution_count": 2,
   "metadata": {},
   "outputs": [],
   "source": [
    "importlib.reload(utility.Pi_util)\n",
    "path: str = '/Volumes/EXTERNAL1/newJson/'\n",
    "results: dict = utility.Pi_util.parse_chunks_binary(path, use_mean_frame=False)"
   ]
  },
  {
   "cell_type": "code",
   "execution_count": null,
   "metadata": {},
   "outputs": [],
   "source": [
    "print(results)"
   ]
  },
  {
   "cell_type": "code",
   "execution_count": null,
   "metadata": {},
   "outputs": [],
   "source": [
    "performance_df: pd.DataFrame = results['performance_df']\n",
    "chunks: list = results['chunks']\n",
    "\n",
    "# Iterate over the chunks \n",
    "for chunk_num, chunk in enumerate(chunks):\n",
    "    print(f\"CHUNK: {chunk_num}\")\n",
    "\n",
    "    # Generate a plot for raw and demosaiced world images\n",
    "    #fig, axes = plt.subplots(1,2)\n",
    "\n",
    "\n",
    "\n",
    "\n",
    "    # Retrieve the difference sensors' data \n",
    "    #ms_data: tuple = chunk['M'] \n",
    "    world_data: np.ndarray = chunk['W']\n",
    "\n",
    "    #for i in range(100,1000, 100):\n",
    "    #    plt.imshow(world_data[i], cmap='gray')\n",
    "    #    plt.show()\n",
    "\n",
    "    #plt.show()\n",
    "\n",
    "    print(world_data.shape)\n",
    "\n",
    "    #pupil_data: list = chunk['P']\n",
    "    #sunglasses_data: np.ndarray = chunk['S']\n",
    "\n",
    "    #print(pupil_data.shape)\n",
    "\n",
    "    #if(pupil_data.shape[0] == 0):\n",
    "    #    continue\n",
    "\n",
    "    plt.imshow(world_data[1000], cmap='gray')\n",
    "    plt.show()\n",
    "\n",
    "    #print(world_data.shape)\n",
    "    #print(pupil_data.shape)\n",
    "    \n"
   ]
  },
  {
   "cell_type": "code",
   "execution_count": null,
   "metadata": {},
   "outputs": [],
   "source": [
    "print(performance_df)"
   ]
  },
  {
   "cell_type": "code",
   "execution_count": null,
   "metadata": {},
   "outputs": [],
   "source": []
  },
  {
   "cell_type": "code",
   "execution_count": null,
   "metadata": {},
   "outputs": [],
   "source": []
  }
 ],
 "metadata": {
  "kernelspec": {
   "display_name": "Python 3",
   "language": "python",
   "name": "python3"
  },
  "language_info": {
   "codemirror_mode": {
    "name": "ipython",
    "version": 3
   },
   "file_extension": ".py",
   "mimetype": "text/x-python",
   "name": "python",
   "nbconvert_exporter": "python",
   "pygments_lexer": "ipython3",
   "version": "3.10.0"
  }
 },
 "nbformat": 4,
 "nbformat_minor": 2
}
