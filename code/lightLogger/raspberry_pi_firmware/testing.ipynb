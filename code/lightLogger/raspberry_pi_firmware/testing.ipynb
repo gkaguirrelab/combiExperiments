{
 "cells": [
  {
   "cell_type": "code",
   "execution_count": 4,
   "metadata": {},
   "outputs": [],
   "source": [
    "import ctypes\n",
    "import numpy as np\n",
    "import utility.Pi_util\n",
    "import importlib"
   ]
  },
  {
   "cell_type": "code",
   "execution_count": 5,
   "metadata": {},
   "outputs": [
    {
     "name": "stdout",
     "output_type": "stream",
     "text": [
      "Parsing: b'/media/rpiControl/FF5E-7541/test_cpp/chunk_1.bin'\n",
      "Name: M_size | Val: 3256\n",
      "Name: W_size | Val: 9600000\n",
      "Name: P_size | Val: 192000000\n",
      "Name: S_size | Val: 0\n"
     ]
    }
   ],
   "source": [
    "importlib.reload(utility.Pi_util)\n",
    "path = \"/media/rpiControl/FF5E-7541/test_cpp/\"\n",
    "test = utility.Pi_util.parse_chunks_binary(path)"
   ]
  },
  {
   "cell_type": "code",
   "execution_count": null,
   "metadata": {},
   "outputs": [],
   "source": [
    "print(test)"
   ]
  }
 ],
 "metadata": {
  "kernelspec": {
   "display_name": "Python 3",
   "language": "python",
   "name": "python3"
  },
  "language_info": {
   "codemirror_mode": {
    "name": "ipython",
    "version": 3
   },
   "file_extension": ".py",
   "mimetype": "text/x-python",
   "name": "python",
   "nbconvert_exporter": "python",
   "pygments_lexer": "ipython3",
   "version": "3.11.2"
  }
 },
 "nbformat": 4,
 "nbformat_minor": 2
}
