{
 "cells": [
  {
   "cell_type": "code",
   "execution_count": 1,
   "metadata": {},
   "outputs": [],
   "source": [
    "import os\n",
    "import importlib\n",
    "from utility import Pi_util\n",
    "from natsort import natsorted\n",
    "import numpy as np\n",
    "import pickle\n",
    "import sys\n",
    "import pandas as pd\n",
    "\n",
    "path_to_lib: str = \"/Users/zacharykelly/Documents/MATLAB/projects/combiExperiments/code/lightLogger/miniSpect\"\n",
    "sys.path.append(path_to_lib)\n",
    "import MS_util\n",
    "import importlib"
   ]
  },
  {
   "cell_type": "code",
   "execution_count": 2,
   "metadata": {},
   "outputs": [],
   "source": [
    "experiment_path: str = \"/Volumes/EXTERNAL1/testNewParser\"\n",
    "use_mean_frame: bool = True"
   ]
  },
  {
   "cell_type": "code",
   "execution_count": 3,
   "metadata": {},
   "outputs": [
    {
     "name": "stdout",
     "output_type": "stream",
     "text": [
      "Loading chunk: 1/12\n",
      "Loading chunk: 2/12\n",
      "Loading chunk: 3/12\n",
      "Loading chunk: 4/12\n",
      "Loading chunk: 5/12\n",
      "Loading chunk: 6/12\n",
      "Loading chunk: 7/12\n",
      "Loading chunk: 8/12\n",
      "Loading chunk: 9/12\n",
      "Loading chunk: 10/12\n",
      "Loading chunk: 11/12\n",
      "Loading chunk: 12/12\n",
      "Parsing chunk: 1/12\n",
      "Length of world vals: 4\n",
      "Frame Buffer Shape: (2001,)\n",
      "Captured Frames: 2001 | FPS: 200.08818353579954\n",
      "Length of MS Vals: 3\n",
      "Reading Buffer Shape Before: 1628 | Num readings: 10.853333333333333\n",
      "Reading Buffer Shape After: 1500 | Num readings: 10.0\n",
      "Reading num: 0/10.135135135135135\n",
      "Reading num: 1/10.135135135135135\n",
      "Reading num: 2/10.135135135135135\n",
      "Reading num: 3/10.135135135135135\n",
      "Reading num: 4/10.135135135135135\n",
      "Reading num: 5/10.135135135135135\n",
      "Reading num: 6/10.135135135135135\n",
      "Reading num: 7/10.135135135135135\n",
      "Reading num: 8/10.135135135135135\n",
      "Reading num: 9/10.135135135135135\n",
      "Reading num: 10/10.135135135135135\n"
     ]
    },
    {
     "ename": "ValueError",
     "evalue": "setting an array element with a sequence. The requested array has an inhomogeneous shape after 1 dimensions. The detected shape was (11,) + inhomogeneous part.",
     "output_type": "error",
     "traceback": [
      "\u001b[0;31m---------------------------------------------------------------------------\u001b[0m",
      "\u001b[0;31mValueError\u001b[0m                                Traceback (most recent call last)",
      "Cell \u001b[0;32mIn[3], line 1\u001b[0m\n\u001b[0;32m----> 1\u001b[0m \u001b[43mPi_util\u001b[49m\u001b[38;5;241;43m.\u001b[39;49m\u001b[43mparse_chunks_pkl\u001b[49m\u001b[43m(\u001b[49m\u001b[43mexperiment_path\u001b[49m\u001b[43m,\u001b[49m\u001b[43m \u001b[49m\u001b[43muse_mean_frame\u001b[49m\u001b[43m)\u001b[49m\n",
      "File \u001b[0;32m~/Documents/MATLAB/projects/combiExperiments/code/lightLogger/raspberry_pi_firmware/utility/Pi_util.py:135\u001b[0m, in \u001b[0;36mparse_chunks_pkl\u001b[0;34m(experiment_path, use_mean_frame)\u001b[0m\n\u001b[1;32m    131\u001b[0m parsed_chunk: \u001b[38;5;28mdict\u001b[39m \u001b[38;5;241m=\u001b[39m {}\n\u001b[1;32m    133\u001b[0m \u001b[38;5;28;01mfor\u001b[39;00m key, val \u001b[38;5;129;01min\u001b[39;00m chunk\u001b[38;5;241m.\u001b[39mitems():\n\u001b[1;32m    134\u001b[0m     \u001b[38;5;66;03m# Parse this sensor's data with its appropriate sensor\u001b[39;00m\n\u001b[0;32m--> 135\u001b[0m     parsed_data: \u001b[38;5;28mdict\u001b[39m \u001b[38;5;241m=\u001b[39m \u001b[43msensor_parsers\u001b[49m\u001b[43m[\u001b[49m\u001b[43mkey\u001b[49m\u001b[43m]\u001b[49m\u001b[43m(\u001b[49m\u001b[43mval\u001b[49m\u001b[43m)\u001b[49m\n\u001b[1;32m    137\u001b[0m     \u001b[38;5;66;03m# Note this sensor's parsed info for this chunk \u001b[39;00m\n\u001b[1;32m    138\u001b[0m     parsed_chunk[key] \u001b[38;5;241m=\u001b[39m parsed_data\n",
      "File \u001b[0;32m~/Documents/MATLAB/projects/combiExperiments/code/lightLogger/raspberry_pi_firmware/utility/Pi_util.py:92\u001b[0m, in \u001b[0;36mparse_chunks_pkl.<locals>.ms_parser\u001b[0;34m(val_tuple)\u001b[0m\n\u001b[1;32m     89\u001b[0m \u001b[38;5;28mprint\u001b[39m(\u001b[38;5;124mf\u001b[39m\u001b[38;5;124m'\u001b[39m\u001b[38;5;124mReading Buffer Shape After: \u001b[39m\u001b[38;5;132;01m{\u001b[39;00m\u001b[38;5;28mlen\u001b[39m(bytes_buffer)\u001b[38;5;132;01m}\u001b[39;00m\u001b[38;5;124m | Num readings: \u001b[39m\u001b[38;5;132;01m{\u001b[39;00m\u001b[38;5;28mlen\u001b[39m(bytes_buffer)\u001b[38;5;241m/\u001b[39mMS_util\u001b[38;5;241m.\u001b[39mMSG_LENGTH\u001b[38;5;132;01m}\u001b[39;00m\u001b[38;5;124m'\u001b[39m)\n\u001b[1;32m     91\u001b[0m \u001b[38;5;66;03m# Use the MS util parsing library to unpack these bytes\u001b[39;00m\n\u001b[0;32m---> 92\u001b[0m AS_channels, TS_channels, LS_channels, LS_temp \u001b[38;5;241m=\u001b[39m \u001b[43mMS_util\u001b[49m\u001b[38;5;241;43m.\u001b[39;49m\u001b[43mparse_readings\u001b[49m\u001b[43m(\u001b[49m\u001b[43mbytes_buffer\u001b[49m\u001b[43m)\u001b[49m\n\u001b[1;32m     94\u001b[0m \u001b[38;5;28mprint\u001b[39m(\u001b[38;5;124mf\u001b[39m\u001b[38;5;124m'\u001b[39m\u001b[38;5;124mCaptured Frames: \u001b[39m\u001b[38;5;132;01m{\u001b[39;00mnum_captured_frames\u001b[38;5;132;01m}\u001b[39;00m\u001b[38;5;124m | FPS: \u001b[39m\u001b[38;5;132;01m{\u001b[39;00mobserved_fps\u001b[38;5;132;01m}\u001b[39;00m\u001b[38;5;124m'\u001b[39m)\n\u001b[1;32m     96\u001b[0m \u001b[38;5;28;01mreturn\u001b[39;00m {name: readings_df \u001b[38;5;28;01mfor\u001b[39;00m readings_df, name \u001b[38;5;129;01min\u001b[39;00m \u001b[38;5;28mzip\u001b[39m((AS_channels, TS_channels, LS_channels, LS_temp), (\u001b[38;5;124m'\u001b[39m\u001b[38;5;124mA\u001b[39m\u001b[38;5;124m'\u001b[39m, \u001b[38;5;124m'\u001b[39m\u001b[38;5;124mT\u001b[39m\u001b[38;5;124m'\u001b[39m, \u001b[38;5;124m'\u001b[39m\u001b[38;5;124mL\u001b[39m\u001b[38;5;124m'\u001b[39m, \u001b[38;5;124m'\u001b[39m\u001b[38;5;124mc\u001b[39m\u001b[38;5;124m'\u001b[39m))} \u001b[38;5;241m|\u001b[39m {\u001b[38;5;124m'\u001b[39m\u001b[38;5;124mnum_frames_captured\u001b[39m\u001b[38;5;124m'\u001b[39m: \u001b[38;5;28mfloat\u001b[39m(num_captured_frames), \u001b[38;5;124m'\u001b[39m\u001b[38;5;124mFPS\u001b[39m\u001b[38;5;124m'\u001b[39m:observed_fps}\n",
      "File \u001b[0;32m~/Documents/MATLAB/projects/combiExperiments/code/lightLogger/miniSpect/MS_util.py:30\u001b[0m, in \u001b[0;36mparse_readings\u001b[0;34m(readings)\u001b[0m\n\u001b[1;32m     25\u001b[0m \u001b[38;5;28;01mdef\u001b[39;00m \u001b[38;5;21mparse_readings\u001b[39m(readings: \u001b[38;5;28mstr\u001b[39m \u001b[38;5;241m|\u001b[39m np\u001b[38;5;241m.\u001b[39mndarray) \u001b[38;5;241m-\u001b[39m\u001b[38;5;241m>\u001b[39m \u001b[38;5;28mtuple\u001b[39m:\n\u001b[1;32m     26\u001b[0m     \u001b[38;5;66;03m# If we have the readings stored in their packed view in .npy format\u001b[39;00m\n\u001b[1;32m     27\u001b[0m     \u001b[38;5;66;03m# we need to do ALL of the parsing and unpacking \u001b[39;00m\n\u001b[1;32m     28\u001b[0m     \u001b[38;5;28;01mif\u001b[39;00m(\u001b[38;5;28misinstance\u001b[39m(readings, \u001b[38;5;28mbytearray\u001b[39m)):\n\u001b[1;32m     29\u001b[0m         \u001b[38;5;66;03m# First, we must parse the np.array of bytes into the respective sensors' bytes\u001b[39;00m\n\u001b[0;32m---> 30\u001b[0m         AS_channels, TS_channels, LS_channels, LS_temp \u001b[38;5;241m=\u001b[39m \u001b[43mparse_SERIAL\u001b[49m\u001b[43m(\u001b[49m\u001b[43mreadings\u001b[49m\u001b[43m)\u001b[49m\n\u001b[1;32m     32\u001b[0m     \u001b[38;5;28;01melse\u001b[39;00m: \u001b[38;5;66;03m# Otherwise, we can simply parse a reading from a csv file and add some formatting + unpacking\u001b[39;00m\n\u001b[1;32m     33\u001b[0m           \u001b[38;5;66;03m# for the accelerometer\u001b[39;00m\n\u001b[1;32m     34\u001b[0m         AS_channels: \u001b[38;5;28mstr\u001b[39m \u001b[38;5;241m=\u001b[39m os\u001b[38;5;241m.\u001b[39mpath\u001b[38;5;241m.\u001b[39mjoin(readings, \u001b[38;5;124m'\u001b[39m\u001b[38;5;124mAS_channels.csv\u001b[39m\u001b[38;5;124m'\u001b[39m)\n",
      "File \u001b[0;32m~/Documents/MATLAB/projects/combiExperiments/code/lightLogger/miniSpect/MS_util.py:313\u001b[0m, in \u001b[0;36mparse_SERIAL\u001b[0;34m(serial_bytes)\u001b[0m\n\u001b[1;32m    311\u001b[0m \u001b[38;5;66;03m# Convert all of the reading containers to a numpy array\u001b[39;00m\n\u001b[1;32m    312\u001b[0m AS_channels: np\u001b[38;5;241m.\u001b[39mndarray \u001b[38;5;241m=\u001b[39m np\u001b[38;5;241m.\u001b[39marray(AS_channels, dtype\u001b[38;5;241m=\u001b[39mnp\u001b[38;5;241m.\u001b[39muint16)\n\u001b[0;32m--> 313\u001b[0m TS_channels: np\u001b[38;5;241m.\u001b[39mndarray \u001b[38;5;241m=\u001b[39m \u001b[43mnp\u001b[49m\u001b[38;5;241;43m.\u001b[39;49m\u001b[43marray\u001b[49m\u001b[43m(\u001b[49m\u001b[43mTS_channels\u001b[49m\u001b[43m,\u001b[49m\u001b[43m \u001b[49m\u001b[43mdtype\u001b[49m\u001b[38;5;241;43m=\u001b[39;49m\u001b[43mnp\u001b[49m\u001b[38;5;241;43m.\u001b[39;49m\u001b[43muint16\u001b[49m\u001b[43m)\u001b[49m\n\u001b[1;32m    314\u001b[0m LS_channels: np\u001b[38;5;241m.\u001b[39mndarray \u001b[38;5;241m=\u001b[39m np\u001b[38;5;241m.\u001b[39marray(LS_channels, dtype\u001b[38;5;241m=\u001b[39mnp\u001b[38;5;241m.\u001b[39mint16)\n\u001b[1;32m    315\u001b[0m LS_temp: np\u001b[38;5;241m.\u001b[39mndarray \u001b[38;5;241m=\u001b[39m np\u001b[38;5;241m.\u001b[39marray(LS_temp, dtype\u001b[38;5;241m=\u001b[39mnp\u001b[38;5;241m.\u001b[39mfloat32)\n",
      "\u001b[0;31mValueError\u001b[0m: setting an array element with a sequence. The requested array has an inhomogeneous shape after 1 dimensions. The detected shape was (11,) + inhomogeneous part."
     ]
    }
   ],
   "source": [
    "Pi_util.parse_chunks_pkl(experiment_path, use_mean_frame)"
   ]
  }
 ],
 "metadata": {
  "kernelspec": {
   "display_name": "Python 3",
   "language": "python",
   "name": "python3"
  },
  "language_info": {
   "codemirror_mode": {
    "name": "ipython",
    "version": 3
   },
   "file_extension": ".py",
   "mimetype": "text/x-python",
   "name": "python",
   "nbconvert_exporter": "python",
   "pygments_lexer": "ipython3",
   "version": "3.10.0"
  }
 },
 "nbformat": 4,
 "nbformat_minor": 2
}
