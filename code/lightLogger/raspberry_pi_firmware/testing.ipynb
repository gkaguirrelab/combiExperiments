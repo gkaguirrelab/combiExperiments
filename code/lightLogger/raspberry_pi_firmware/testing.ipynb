{
 "cells": [
  {
   "cell_type": "code",
   "execution_count": 15,
   "metadata": {},
   "outputs": [],
   "source": [
    "import numpy as np\n",
    "import os\n",
    "import sys \n",
    "import pandas as pd\n",
    "import matplotlib.pyplot as plt\n",
    "\n",
    "# Append paths to utility libraries \n",
    "sys.path.append('/Users/zacharykelly/Documents/MATLAB/projects/combiExperiments/code/lightLogger/miniSpect')\n",
    "import MS_util \n",
    "\n",
    "sys.path.append('/Users/zacharykelly/Documents/MATLAB/projects/combiExperiments/code/lightLogger/camera')\n",
    "import Camera_util\n",
    "import recorder as r_world\n"
   ]
  },
  {
   "cell_type": "code",
   "execution_count": 16,
   "metadata": {},
   "outputs": [],
   "source": [
    "# Define the path to the SSD holding all of the data\n",
    "path_to_ssd: str = '/Volumes/EXTERNAL1'"
   ]
  },
  {
   "cell_type": "code",
   "execution_count": 17,
   "metadata": {},
   "outputs": [],
   "source": [
    "# Experiment to analyze \n",
    "experiment_name: str = 'blue4'\n",
    "frequency = 5\n",
    "NDF = 0"
   ]
  },
  {
   "cell_type": "code",
   "execution_count": 7,
   "metadata": {},
   "outputs": [],
   "source": [
    "# Find the MS readings directory\n",
    "MS_readings_dir: str = os.path.join(path_to_ssd, experiment_name, 'test_MS_readings')"
   ]
  },
  {
   "cell_type": "code",
   "execution_count": null,
   "metadata": {},
   "outputs": [],
   "source": [
    "# Analyze the MS data\n",
    "MS_util.plot_readings(MS_readings_dir)\n"
   ]
  },
  {
   "cell_type": "code",
   "execution_count": 9,
   "metadata": {},
   "outputs": [],
   "source": [
    "# Gather the MS chip data frames to plot a single chip more in depthly \n",
    "AS_channel_df: pd.DataFrame = MS_util.reading_to_df(os.path.join(MS_readings_dir, 'AS_channels.csv'), np.uint16)\n",
    "TS_channel_df: pd.DataFrame = MS_util.reading_to_df(os.path.join(MS_readings_dir, 'TS_channels.csv'), np.uint16)"
   ]
  },
  {
   "cell_type": "code",
   "execution_count": null,
   "metadata": {},
   "outputs": [],
   "source": [
    "# Plot an \n",
    "fig, (ax1, ax2) = plt.subplots(1,2)\n",
    "\n",
    "TS_fit_info = Camera_util.fit_source_modulation(TS_channel_df['0'].to_numpy(), NDF, frequency, ax1, fps_guess=1, fps_guess_increment=(-1,2))\n",
    "AS_fit_info = Camera_util.fit_source_modulation(AS_channel_df['0'].to_numpy(), NDF, frequency, ax2, fps_guess=1, fps_guess_increment=(-1,2))"
   ]
  },
  {
   "cell_type": "code",
   "execution_count": null,
   "metadata": {},
   "outputs": [],
   "source": [
    "# Plot an AS channel\n",
    "fig, ax = plt.subplots(1,1)\n",
    "\n",
    "MS_fit_info = Camera_util.fit_source_modulation(AS_channel_df['4'].to_numpy(), NDF, frequency, ax, fps_guess=1, fps_guess_increment=(-1,2))"
   ]
  },
  {
   "cell_type": "code",
   "execution_count": 18,
   "metadata": {},
   "outputs": [],
   "source": [
    "# Find the world cam frame dir and the settings file\n",
    "world_cam_dir: str = os.path.join(path_to_ssd, experiment_name, 'blue4_5hz_0NDF_world')\n",
    "world_cam_settings_file: str = os.path.join(path_to_ssd, experiment_name, 'blue4_5hz_0NDF_world_settingsHistory.csv')"
   ]
  },
  {
   "cell_type": "code",
   "execution_count": 19,
   "metadata": {},
   "outputs": [],
   "source": [
    "import importlib\n",
    "importlib.reload(Camera_util)\n",
    "# Load in the world cam video \n",
    "world_cam_vid: np.ndarray = Camera_util.parse_mean_frame_array_buffer(world_cam_dir)\n"
   ]
  },
  {
   "cell_type": "code",
   "execution_count": null,
   "metadata": {},
   "outputs": [],
   "source": [
    "# Fit the world cam source modulation\n",
    "fig, ax = plt.subplots(1,1)\n",
    "import importlib\n",
    "importlib.reload(Camera_util)\n",
    "camera_fit_info = Camera_util.fit_source_modulation(world_cam_vid, NDF, frequency, ax)"
   ]
  },
  {
   "cell_type": "code",
   "execution_count": null,
   "metadata": {},
   "outputs": [],
   "source": []
  },
  {
   "cell_type": "code",
   "execution_count": null,
   "metadata": {},
   "outputs": [],
   "source": [
    "# Plot the camera settings history\n",
    "world_cam_settings: pd.DataFrame = r_world.parse_settings_file(world_cam_settings_file)\n",
    "world_cam_settings.head\n",
    "\n",
    "fig, gain_ax = plt.subplots(1,1)\n",
    "gain_ax.set_title('Settings History')\n",
    "\n",
    "gain_ax.plot(world_cam_settings['gain_history'])\n",
    "gain_ax.set_xlabel('Frame')\n",
    "gain_ax.set_ylabel('Gain', color='blue')\n",
    "\n",
    "exposure_ax = gain_ax.twinx()\n",
    "exposure_ax.plot(world_cam_settings['exposure_history'], color='orange')\n",
    "exposure_ax.set_ylabel('Exposure', color='orange')\n",
    "\n",
    "plt.show()\n",
    "\n"
   ]
  },
  {
   "cell_type": "code",
   "execution_count": 19,
   "metadata": {},
   "outputs": [],
   "source": [
    "# Find the pupil cam frame directory\n",
    "pupil_cam_dir: str = os.path.join(path_to_ssd, experiment_name, 'test_pupil')"
   ]
  },
  {
   "cell_type": "code",
   "execution_count": 20,
   "metadata": {},
   "outputs": [],
   "source": [
    "import importlib\n",
    "importlib.reload(Camera_util)\n",
    "# Load in the pupil cam video \n",
    "pupil_vid: np.ndarray = Camera_util.parse_mean_frame_array(pupil_cam_dir)\n"
   ]
  },
  {
   "cell_type": "code",
   "execution_count": null,
   "metadata": {},
   "outputs": [],
   "source": [
    "# Fit the pupil cam source modulation\n",
    "fig, ax = plt.subplots(1,1)\n",
    "\n",
    "pupil_fit_info = Camera_util.fit_source_modulation(pupil_vid[90:360], NDF, frequency, ax)"
   ]
  },
  {
   "cell_type": "code",
   "execution_count": null,
   "metadata": {},
   "outputs": [],
   "source": [
    "pupil_measured, pupil_fit, pupil_phase = pupil_fit_info[-1][:2], pupil_fit_info[-1][2:], pupil_fit_info[1]\n",
    "\n",
    "fig, ax = plt.subplots(1,1)\n",
    "\n",
    "\n",
    "ax.plot(pupil_measured[0][:120], pupil_measured[1][:120], label='Pupil measured')\n",
    "ax.plot(pupil_fit[0][:int(120**2)], pupil_fit[1][:int(120**2)], label='Pupil fit')"
   ]
  },
  {
   "cell_type": "code",
   "execution_count": null,
   "metadata": {},
   "outputs": [],
   "source": [
    "# Find the sunglasses reading file \n",
    "sunglasses_file: str = os.path.join(path_to_ssd, experiment_name, '0x5_together_15min_sunglasses.csv')"
   ]
  },
  {
   "cell_type": "code",
   "execution_count": null,
   "metadata": {},
   "outputs": [],
   "source": [
    "# Load in the sunglasses file \n",
    "sunglasses_df: pd.DataFrame = pd.read_csv(sunglasses_file, header=None, names=['sensor_val'])\n",
    "sunglasses_df.head"
   ]
  },
  {
   "cell_type": "code",
   "execution_count": null,
   "metadata": {},
   "outputs": [],
   "source": [
    "fig, ax = plt.subplots(1,1)\n",
    "\n",
    "ax.set_title('Sunglasses Sensor Val')\n",
    "ax.plot(sunglasses_df['sensor_val'])\n",
    "ax.set_xlabel('Measurement')\n",
    "ax.set_ylabel('Sensor Val')\n",
    "\n",
    "plt.show()"
   ]
  },
  {
   "cell_type": "code",
   "execution_count": 16,
   "metadata": {},
   "outputs": [],
   "source": [
    "# Retrieve the fits and stuff\n",
    "camera_measured, camera_fit, camera_phase = camera_fit_info[-1][:2], camera_fit_info[-1][2:], camera_fit_info[1]\n",
    "#MS_measured, MS_fit, MS_phase = MS_fit_info[-1][:2], MS_fit_info[-1][2:], MS_fit_info[1]\n",
    "\n"
   ]
  },
  {
   "cell_type": "code",
   "execution_count": 7,
   "metadata": {},
   "outputs": [],
   "source": [
    "# Retrieve the fits and stuff\n",
    "TS_measured, TS_fit, TS_phase = TS_fit_info[-1][:2], TS_fit_info[-1][2:], TS_fit_info[1]\n",
    "AS_measured, AS_fit, AS_phase = AS_fit_info[-1][:2], AS_fit_info[-1][2:], AS_fit_info[1]"
   ]
  },
  {
   "cell_type": "code",
   "execution_count": null,
   "metadata": {},
   "outputs": [],
   "source": [
    "[TS_phase, AS_phase] = np.unwrap([TS_phase, AS_phase], period=np.pi/2)\n",
    "\n",
    "print(f'AS Phase: {AS_phase}')\n",
    "print(f'TS Phase: {TS_phase}')"
   ]
  },
  {
   "cell_type": "code",
   "execution_count": 31,
   "metadata": {},
   "outputs": [],
   "source": [
    "[MS_phase, camera_phase] = np.unwrap([MS_phase, camera_phase], period=np.pi/2)"
   ]
  },
  {
   "cell_type": "code",
   "execution_count": null,
   "metadata": {},
   "outputs": [],
   "source": [
    "# First, display a minutes worth of content of the two devices superimposed onto one another\n",
    "fig, ax = plt.subplots(1,1)\n",
    "\n",
    "#ax.set_title('Camera and MS Data Superimposed')\n",
    "#ax.plot(MS_measured[0][:60], MS_measured[1][:60], label='MS measured')\n",
    "#ax.plot(MS_fit[0][:int(10**5.75)], MS_fit[1][:int(10**5.75)], label='MS fit')\n",
    "ax.plot(camera_measured[0][:120], camera_measured[1][:120], label='Camera measured')\n",
    "ax.plot(camera_fit[0][:int(120**2)], camera_fit[1][:int(120**2)], label='Camera fit')\n",
    "ax.legend()\n"
   ]
  },
  {
   "cell_type": "code",
   "execution_count": null,
   "metadata": {},
   "outputs": [],
   "source": [
    "# First, display a minutes worth of content of the two devices superimposed onto one another\n",
    "fig, ax = plt.subplots(1,1)\n",
    "\n",
    "ax.set_title('AS and TS Data Superimposed')\n",
    "ax.plot(AS_measured[0][:60], AS_measured[1][:60], label='AS measured')\n",
    "ax.plot(AS_fit[0][:int(10**5.75)], AS_fit[1][:int(10**5.75)], label='AS fit')\n",
    "ax.plot(TS_measured[0][:60], TS_measured[1][:60], label='TS measured')\n",
    "ax.plot(TS_fit[0][:int(60**3)], TS_fit[1][:int(60**3)], label='TS fit')\n",
    "ax.legend()"
   ]
  },
  {
   "cell_type": "code",
   "execution_count": null,
   "metadata": {},
   "outputs": [],
   "source": [
    "# Now, align the data \n",
    "fig, ax = plt.subplots(1,1)\n",
    "\n",
    "phase_offset = MS_phase - camera_phase\n",
    "phase_offset_seconds = phase_offset / ( 2*np.pi * frequency)\n",
    "\n",
    "ax.set_title('Camera and AS Data Phase Aligned')\n",
    "ax.plot(MS_measured[0][:60], MS_measured[1][:60], label='AS measured')\n",
    "ax.plot(MS_fit[0][:int(10**5.75)], MS_fit[1][:int(10**5.75)], label='AS fit')\n",
    "ax.plot(camera_measured[0][:120*60] + phase_offset_seconds, camera_measured[1][:120*60], label='Camera measured')\n",
    "ax.plot(camera_fit[0][:int(120**2.75)] + phase_offset_seconds, camera_fit[1][:int(120**2.75)], label='Camera fit')\n",
    "ax.legend()\n",
    "\n",
    "print(phase_offset)\n",
    "print(phase_offset_seconds)"
   ]
  },
  {
   "cell_type": "code",
   "execution_count": null,
   "metadata": {},
   "outputs": [],
   "source": [
    "# Now, align the data \n",
    "fig, ax = plt.subplots(1,1)\n",
    "\n",
    "phase_offset = AS_phase - TS_phase\n",
    "\n",
    "phase_offset_seconds = phase_offset / (2*np.pi * frequency)\n",
    "\n",
    "ax.set_title('AS and TS Data Aligned')\n",
    "ax.plot(AS_measured[0][:60], AS_measured[1][:60], label='AS measured')\n",
    "ax.plot(AS_fit[0][:int(10**5.75)], AS_fit[1][:int(10**5.75)], label='AS fit')\n",
    "ax.plot(TS_measured[0][:60]+phase_offset_seconds, TS_measured[1][:60], label='TS measured')\n",
    "ax.plot(TS_fit[0][:int(60**3)]+phase_offset, TS_fit[1][:int(60**3)], label='TS fit')\n",
    "ax.legend()\n",
    "\n",
    "print(phase_offset)\n",
    "print(phase_offset_seconds)"
   ]
  }
 ],
 "metadata": {
  "kernelspec": {
   "display_name": "Python 3",
   "language": "python",
   "name": "python3"
  },
  "language_info": {
   "codemirror_mode": {
    "name": "ipython",
    "version": 3
   },
   "file_extension": ".py",
   "mimetype": "text/x-python",
   "name": "python",
   "nbconvert_exporter": "python",
   "pygments_lexer": "ipython3",
   "version": "3.10.0"
  }
 },
 "nbformat": 4,
 "nbformat_minor": 2
}
