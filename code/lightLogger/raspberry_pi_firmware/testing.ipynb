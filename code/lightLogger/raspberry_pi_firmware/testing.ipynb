{
 "cells": [
  {
   "cell_type": "code",
   "execution_count": 1,
   "metadata": {},
   "outputs": [],
   "source": [
    "import ctypes\n",
    "import numpy as np\n",
    "import utility.Pi_util\n",
    "import importlib\n",
    "import pandas as pd\n",
    "import matplotlib.pyplot as plt"
   ]
  },
  {
   "cell_type": "code",
   "execution_count": 3,
   "metadata": {},
   "outputs": [],
   "source": [
    "importlib.reload(utility.Pi_util)\n",
    "path: str = '/Volumes/EXTERNAL1/allSensorsCPP/'\n",
    "results: dict = utility.Pi_util.parse_chunks_binary(path)"
   ]
  },
  {
   "cell_type": "code",
   "execution_count": 6,
   "metadata": {},
   "outputs": [
    {
     "ename": "ValueError",
     "evalue": "too many values to unpack (expected 1)",
     "output_type": "error",
     "traceback": [
      "\u001b[0;31m---------------------------------------------------------------------------\u001b[0m",
      "\u001b[0;31mValueError\u001b[0m                                Traceback (most recent call last)",
      "Cell \u001b[0;32mIn[6], line 1\u001b[0m\n\u001b[0;32m----> 1\u001b[0m [(performance_df, chunks)] \u001b[38;5;241m=\u001b[39m \u001b[38;5;28mlist\u001b[39m(results\u001b[38;5;241m.\u001b[39mitems())\n\u001b[1;32m      3\u001b[0m \u001b[38;5;66;03m# Iterate over the chunks \u001b[39;00m\n\u001b[1;32m      4\u001b[0m \u001b[38;5;28;01mfor\u001b[39;00m chunk \u001b[38;5;129;01min\u001b[39;00m chunks:\n\u001b[1;32m      5\u001b[0m \n\u001b[1;32m      6\u001b[0m     \u001b[38;5;66;03m# Retrieve the difference sensors' data \u001b[39;00m\n",
      "\u001b[0;31mValueError\u001b[0m: too many values to unpack (expected 1)"
     ]
    }
   ],
   "source": [
    "performance_df: pd.DataFrame = results['performance_df']\n",
    "chunks: list = results['chunks']\n",
    "\n",
    "# Iterate over the chunks \n",
    "for chunk in chunks:\n",
    "\n",
    "    # Retrieve the difference sensors' data \n",
    "    ms_data: tuple = chunk['M'] \n",
    "    world_data: np.ndarray = chunk['W']\n",
    "    pupil_data: list = chunk['P']\n",
    "    sunglasses_data: np.ndarray = chunk['S']\n"
   ]
  }
 ],
 "metadata": {
  "kernelspec": {
   "display_name": "Python 3",
   "language": "python",
   "name": "python3"
  },
  "language_info": {
   "codemirror_mode": {
    "name": "ipython",
    "version": 3
   },
   "file_extension": ".py",
   "mimetype": "text/x-python",
   "name": "python",
   "nbconvert_exporter": "python",
   "pygments_lexer": "ipython3",
   "version": "3.10.0"
  }
 },
 "nbformat": 4,
 "nbformat_minor": 2
}
