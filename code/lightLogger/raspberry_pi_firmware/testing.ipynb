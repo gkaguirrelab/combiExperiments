{
 "cells": [
  {
   "cell_type": "code",
   "execution_count": null,
   "metadata": {},
   "outputs": [],
   "source": [
    "# %matplotlib widget\n",
    "import numpy as np \n",
    "import pandas as pd\n",
    "from natsort import natsorted\n",
    "import matplotlib.pyplot as plt\n",
    "import os\n",
    "import sys\n",
    "import importlib\n",
    "\n",
    "\n",
    "\n",
    "sys.path.append('/Users/zacharykelly/Documents/MATLAB/projects/combiExperiments/code/lightLogger/miniSpect')\n",
    "sys.path.append('/Users/zacharykelly/Documents/MATLAB/projects/combiExperiments/code/lightLogger/camera')\n",
    "import Camera_util\n",
    "import MS_util"
   ]
  },
  {
   "cell_type": "code",
   "execution_count": null,
   "metadata": {},
   "outputs": [],
   "source": [
    "# Define macro information about where to find the directories/files for all of the data\n",
    "path_to_ssd: str = '/Volumes/EXTERNAL1'         \n",
    "experiment_name: str = 'battery_0.1hz_3NDF'\n",
    "frequency: float = 0.1\n",
    "NDF: int = 3"
   ]
  },
  {
   "cell_type": "code",
   "execution_count": null,
   "metadata": {},
   "outputs": [],
   "source": [
    "# Define paths to individual sensor readings\n",
    "#world_cam_dir: str = os.path.join(path_to_ssd, experiment_name, f'{experiment_name}_world')\n",
    "world_cam_dir: str = os.path.join(path_to_ssd, experiment_name, f'{experiment_name}_world')\n",
    "pupil_cam_dir: str = os.path.join(path_to_ssd, experiment_name, f'{experiment_name}_pupil')\n",
    "sunglasses_file: str = os.path.join(path_to_ssd, experiment_name, f'{experiment_name}_sunglasses.txt')\n",
    "MS_readings_dir: str = os.path.join(path_to_ssd, experiment_name, f'{experiment_name}_MS_readings')\n",
    "frame_capture_time_file: str = os.path.join(path_to_ssd, experiment_name, f'{experiment_name}_world_frameTimings.csv')\n",
    "#CPU_info_file: str = os.path.join(path_to_ssd, experiment_name, f'{experiment_name}_world_cpuInfo.csv')\n",
    "\n",
    "#frame_capture_time_file: str = '/Volumes/EXTERNAL1/test_cam_only_5mins/test_cam_only_5mins_frameTimings.csv'\n",
    "\n",
    "\n",
    "#assert(all(os.path.exists(path) == True for path in [world_cam_dir, pupil_cam_dir, MS_readings_dir, sunglasses_file]))"
   ]
  },
  {
   "cell_type": "code",
   "execution_count": null,
   "metadata": {},
   "outputs": [],
   "source": [
    "importlib.reload(MS_util)\n",
    "fig, axes = MS_util.plot_readings(MS_readings_dir)"
   ]
  },
  {
   "cell_type": "code",
   "execution_count": null,
   "metadata": {},
   "outputs": [],
   "source": [
    "new_fig, new_ax = plt.subplots()\n",
    "new_ax.plot(axes[2].lines[0].get_xdata(), axes[2].lines[0].get_ydata())\n",
    "\n",
    "plt.show()"
   ]
  },
  {
   "cell_type": "code",
   "execution_count": null,
   "metadata": {},
   "outputs": [],
   "source": [
    "fig, axes = plt.subplots(3,1)\n",
    "\n",
    "# First, plot the difference between the start capture times\n",
    "axes[0].set_title('Frame Start Capture Time')\n",
    "axes[0].set_xlabel('Frame Number')\n",
    "axes[0].set_ylabel('Time [seconds]')\n",
    "axes[0].plot(np.abs(np.diff(frame_timings_df['Begin'])))\n",
    "\n",
    "# Then, plot the difference between the end capture times \n",
    "axes[1].set_title('Frame End Capture Time')\n",
    "axes[1].set_xlabel('Frame Number')\n",
    "axes[1].set_ylabel('Time [seconds]')\n",
    "axes[1].plot(np.abs(np.diff(frame_timings_df['End'])))\n",
    "\n",
    "# Then, plot the differences betweeen the start and end \n",
    "axes[2].set_title('Frame Elapsed Capture Time')\n",
    "axes[2].set_xlabel('Frame Number')\n",
    "axes[2].set_ylabel('Time [seconds]')\n",
    "axes[2].plot(frame_timings_df['End'] - frame_timings_df['Begin'])\n",
    "\n",
    "plt.subplots_adjust(hspace=1)\n",
    "\n",
    "plt.show()"
   ]
  },
  {
   "cell_type": "code",
   "execution_count": null,
   "metadata": {},
   "outputs": [],
   "source": [
    "signal = np.abs(np.diff(frame_timings_df['Begin']))\n",
    "t = Camera_util.generate_temporal_support(signal, 200)\n",
    "\n",
    "plt.title('Frame Capture Begin Delta')\n",
    "plt.xlabel('Time [seconds]')\n",
    "plt.ylabel('Delta [seconds]')\n",
    "plt.plot(t, signal)\n",
    "\n",
    "plt.xlim(322.5,323.1)\n"
   ]
  },
  {
   "cell_type": "code",
   "execution_count": null,
   "metadata": {},
   "outputs": [],
   "source": [
    "signal = np.abs(np.diff(frame_timings_df['End']))\n",
    "t = Camera_util.generate_temporal_support(signal, 200)\n",
    "\n",
    "plt.title('Frame Capture End Delta')\n",
    "plt.xlabel('Time [seconds]')\n",
    "plt.ylabel('Delta [seconds]')\n",
    "plt.plot(t, signal)\n",
    "\n",
    "plt.xlim(322.5,323.1)"
   ]
  },
  {
   "cell_type": "code",
   "execution_count": null,
   "metadata": {},
   "outputs": [],
   "source": [
    "signal = np.abs(frame_timings_df['End'] - frame_timings_df['Begin'])\n",
    "t = Camera_util.generate_temporal_support(signal, 200)\n",
    "\n",
    "plt.title('Frame Capture Elapsed Time')\n",
    "plt.xlabel('Time [seconds]')\n",
    "plt.ylabel('Delta [seconds]')\n",
    "plt.plot(t, signal)\n",
    "\n",
    "plt.xlim(322.5,323.1)"
   ]
  },
  {
   "cell_type": "code",
   "execution_count": null,
   "metadata": {},
   "outputs": [],
   "source": [
    "signal = cpu_info_df['CPU Usage']\n",
    "t = Camera_util.generate_temporal_support(signal, 199.8)\n",
    "\n",
    "plt.title('CPU Usage')\n",
    "plt.xlabel('Time [seconds]')\n",
    "plt.ylabel('Percent Usage')\n",
    "plt.plot(t, signal)\n",
    "\n",
    "plt.xlim(248,249)"
   ]
  },
  {
   "cell_type": "code",
   "execution_count": null,
   "metadata": {},
   "outputs": [],
   "source": [
    "signal = cpu_info_df['CPU Clockspeed']\n",
    "t = Camera_util.generate_temporal_support(signal, 199.8)\n",
    "\n",
    "plt.title('CPU Clockspeed')\n",
    "plt.xlabel('Time [seconds]')\n",
    "plt.ylabel('Clockspeed [mhz]')\n",
    "plt.plot(t, signal)\n",
    "\n",
    "plt.xlim(248,249)"
   ]
  },
  {
   "cell_type": "code",
   "execution_count": null,
   "metadata": {},
   "outputs": [],
   "source": [
    "from collections import Counter \n",
    "\n",
    "val_freq = Counter(np.abs(np.diff(frame_timings_df['Begin'])))\n",
    "\n",
    "for (key, val) in val_freq.most_common():\n",
    "    print(f'Val: {key} | Freq: {val} \\n')"
   ]
  },
  {
   "cell_type": "code",
   "execution_count": null,
   "metadata": {},
   "outputs": [],
   "source": [
    "print(len(chunks))\n",
    "\n",
    "chunk_0, chunk_1 = Camera_util.parse_mean_frame_array_buffer(chunks[0]), Camera_util.parse_mean_frame_array_buffer(chunks[1])\n",
    "\n"
   ]
  },
  {
   "cell_type": "code",
   "execution_count": null,
   "metadata": {},
   "outputs": [],
   "source": [
    "Camera_util.plot_fit(fits[0], 199.8157786771373, start_second=58, end_second=60)\n"
   ]
  },
  {
   "cell_type": "code",
   "execution_count": null,
   "metadata": {},
   "outputs": [],
   "source": [
    "# Examine the world cam data \n",
    "sys.path.append('/Users/zacharykelly/Documents/MATLAB/projects/combiExperiments/code/lightLogger/camera') # append the path to the camera libraries so we can use their files\n",
    "import recorder     \n",
    "import Camera_util\n",
    "\n",
    "importlib.reload(Camera_util)\n",
    "\n",
    "# Define the chunksize of time to analyze at a given time \n",
    "chunk_seconds: int = 60 # Look at one minute chunks\n",
    "\n",
    "# Load in the paths20 to the 1-second buffer files \n",
    "buffer_files: list = [os.path.join(world_cam_dir, file) \n",
    "                     for file in natsorted(os.listdir(world_cam_dir))]\n",
    "\n",
    "# Define the chunks\n",
    "chunks: list = [buffer_files[i:i+chunk_seconds] \n",
    "               for i in range(0, len(buffer_files), chunk_seconds)]\n",
    "\n",
    "# Initialize a container for the fit info for each chunk \n",
    "r2_values: list = []\n",
    "amplitudes: list = []\n",
    "phases: list = []\n",
    "fpss: list = []\n",
    "\n",
    "# Retrieve a list of the fi%matplotlib widgetts of the observed modulations\n",
    "fits: list = []\n",
    "\n",
    "# Iterate over the chunks\n",
    "for chunk_idx, chunk in enumerate(chunks):\n",
    "    print(f'Analyzing chunk {chunk_idx+1}/{len(chunks)} with size: {len(chunk)} buffers/seconds...')\n",
    "\n",
    "    # Load in the frames from this chunk\n",
    "    chunk_frames: np.ndarray = Camera_util.parse_mean_frame_array_buffer(chunk)\n",
    "\n",
    "    # Initialize an axis to display the fit on \n",
    "    fig, ax = plt.subplots(1,1)\n",
    "\n",
    "    # Fit the modulation for this chunk (without plotting)\n",
    "    #print(f'Estimating fit with: {recorder.CAM_FPS}FPS')\n",
    "    ret_info: tuple = Camera_util.fit_source_modulation(chunk_frames, str(NDF), frequency, ax=ax, fps_guess=200, fps_guess_increment=(-2,2))\n",
    "\n",
    "    # Retrieve the amplitude and phase for the fit \n",
    "    amplitude, phase, observed_fps = ret_info[:3]\n",
    "\n",
    "    # Retrieve the R2 from the ret information\n",
    "    r2: float = ret_info[-1][-1] \n",
    "\n",
    "    # Append the info to the running lists of info \n",
    "    r2_values.append(r2)\n",
    "    amplitudes.append(amplitude)\n",
    "    phases.append(phase)\n",
    "    fits.append(ret_info[-1][:-1])\n",
    "    fpss.append(observed_fps)\n",
    "\n",
    "    # Show the fit\n",
    "    plt.show()\n",
    "\n",
    "    # Close the figure\n",
    "    plt.close(fig)\n",
    "\n"
   ]
  },
  {
   "cell_type": "code",
   "execution_count": null,
   "metadata": {},
   "outputs": [],
   "source": [
    "# Plot the R2, amplitudes, and phase by buffer \n",
    "# in both log and non-log scale\n",
    "fig, axes = plt.subplots(4,2, figsize=(16,10))\n",
    "\n",
    "# Keep track of what axis we are on \n",
    "ax_num: int = 0 \n",
    "\n",
    "# Iterate over the measurements with their associated axes and plot them\n",
    "for i, (measurement, name, ax_row) in enumerate(zip((r2_values, amplitudes, phases, fpss), ('R2', 'Amplitude', 'Phase', 'FPS'), axes)):\n",
    "    # Retrieve the base 10 ax to plot on \n",
    "    # and the log ax \n",
    "    ax: plt.Axes = ax_row[0]\n",
    "    log_ax: axes = ax_row[1]\n",
    "\n",
    "    # Title the graphs\n",
    "    ax.set_title(name)\n",
    "    log_ax.set_title(f'{name} LOG')\n",
    "\n",
    "    # Label the X axes \n",
    "    ax.set_xlabel('Chunk Number')\n",
    "    log_ax.set_xlabel('Chunk Number')\n",
    "\n",
    "\n",
    "    # Label the Y axes\n",
    "    ax.set_ylabel('Value')\n",
    "    log_ax.set_ylabel('Value [LOG]')\n",
    "\n",
    "    # Plot the data \n",
    "    ax.plot(measurement)\n",
    "    log_ax.plot(np.log10(measurement))\n",
    "\n",
    "\n",
    "    # Update the ax num\n",
    "    ax_num += 2 \n",
    "    \n",
    "# Adjust the spacing in the plot\n",
    "plt.subplots_adjust(wspace=0.5, hspace=1)\n",
    "\n",
    "# Show the plot\n",
    "plt.show()"
   ]
  },
  {
   "cell_type": "code",
   "execution_count": null,
   "metadata": {},
   "outputs": [],
   "source": [
    "avg_r2_100, median_r2_100 = np.mean(r2_values), np.median(r2_values)\n",
    "\n",
    "print(avg_r2_100)\n",
    "print(median_r2_100)"
   ]
  },
  {
   "cell_type": "code",
   "execution_count": null,
   "metadata": {},
   "outputs": [],
   "source": [
    "avg_r2_30, median_r2_30 = np.mean(r2_values), np.median(r2_values)\n",
    "\n",
    "print(avg_r2_30)\n",
    "print(median_r2_30)"
   ]
  }
 ],
 "metadata": {
  "kernelspec": {
   "display_name": "Python 3",
   "language": "python",
   "name": "python3"
  },
  "language_info": {
   "codemirror_mode": {
    "name": "ipython",
    "version": 3
   },
   "file_extension": ".py",
   "mimetype": "text/x-python",
   "name": "python",
   "nbconvert_exporter": "python",
   "pygments_lexer": "ipython3",
   "version": "3.10.0"
  }
 },
 "nbformat": 4,
 "nbformat_minor": 2
}
