{
 "cells": [
  {
   "cell_type": "code",
   "execution_count": 1,
   "metadata": {},
   "outputs": [],
   "source": [
    "import ctypes\n",
    "import numpy as np\n",
    "import utility.Pi_util\n",
    "import importlib\n",
    "import pandas as pd\n",
    "import matplot.pyplot as plt"
   ]
  },
  {
   "cell_type": "code",
   "execution_count": 2,
   "metadata": {},
   "outputs": [],
   "source": [
    "importlib.reload(utility.Pi_util)\n",
    "path = '/Volumes/EXTERNAL1/allSensorsCPP/'\n",
    "test = utility.Pi_util.parse_chunks_binary(path)"
   ]
  },
  {
   "cell_type": "code",
   "execution_count": 3,
   "metadata": {},
   "outputs": [
    {
     "name": "stdout",
     "output_type": "stream",
     "text": [
      "{'performance_df':    Duration  M_frames  W_frames  P_frames  S_frames\n",
      "0        30        30      6002      3597        30, 'chunks': [{'M': array([0, 0, 0, ..., 0, 0, 0], dtype=uint8), 'W': array([0, 2, 2, ..., 0, 0, 0], dtype=uint8), 'P': array([255, 216, 255, ...,   0,   0,   0], dtype=uint8), 'S': array([  0,   0,   0,   0,   0,   0,   0, 208,   0,   0,   0,   0,   0,\n",
      "         0,   0, 208,   2,   0, 166, 177], dtype=uint8)}, {'M': array([0, 0, 0, ..., 0, 0, 0], dtype=uint8), 'W': array([0, 2, 2, ..., 0, 0, 0], dtype=uint8), 'P': array([255, 216, 255, ...,   0,   0,   0], dtype=uint8), 'S': array([  0,   0,   0,   0,   0,   0,   0, 208,   0,   0,   0,   0,   0,\n",
      "         0,   0, 208,  24,   0,   0,   0], dtype=uint8)}, {'M': array([0, 0, 0, ..., 0, 0, 0], dtype=uint8), 'W': array([0, 2, 2, ..., 0, 0, 0], dtype=uint8), 'P': array([255, 216, 255, ...,   0,   0,   0], dtype=uint8), 'S': array([  0,   0,   0,   0,   0,   0,   0, 208,   0,   0,   0,   0,   0,\n",
      "         0,   0, 208,   2,   0, 253, 176], dtype=uint8)}]}\n"
     ]
    }
   ],
   "source": [
    "chunks "
   ]
  }
 ],
 "metadata": {
  "kernelspec": {
   "display_name": "Python 3",
   "language": "python",
   "name": "python3"
  },
  "language_info": {
   "codemirror_mode": {
    "name": "ipython",
    "version": 3
   },
   "file_extension": ".py",
   "mimetype": "text/x-python",
   "name": "python",
   "nbconvert_exporter": "python",
   "pygments_lexer": "ipython3",
   "version": "3.10.0"
  }
 },
 "nbformat": 4,
 "nbformat_minor": 2
}
