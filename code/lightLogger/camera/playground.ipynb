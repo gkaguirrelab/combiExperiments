{
 "cells": [
  {
   "cell_type": "code",
   "execution_count": 1,
   "metadata": {},
   "outputs": [],
   "source": [
    "import numpy as np\n",
    "import os\n",
    "import matlab.engine\n",
    "import matplotlib.pyplot as plt\n",
    "from Camera_util import parse_video, parse_mean_video\n",
    "import pandas as pd\n",
    "from natsort import natsorted\n",
    "import time\n",
    "import Camera_util \n",
    "import importlib\n",
    "import pickle\n",
    "import scipy.io\n",
    "import heapq\n",
    "from collections.abc import Iterable\n",
    "from recorder import parse_settings_file"
   ]
  },
  {
   "cell_type": "code",
   "execution_count": null,
   "metadata": {},
   "outputs": [],
   "source": [
    "path = '/home/eds/combiExperiments/code/lightLogger/raspberry_pi_firmware/test_settingsHistory.csv'\n",
    "\n",
    "parse_settings_file(path)"
   ]
  }
 ],
 "metadata": {
  "kernelspec": {
   "display_name": "Python 3",
   "language": "python",
   "name": "python3"
  },
  "language_info": {
   "codemirror_mode": {
    "name": "ipython",
    "version": 3
   },
   "file_extension": ".py",
   "mimetype": "text/x-python",
   "name": "python",
   "nbconvert_exporter": "python",
   "pygments_lexer": "ipython3",
   "version": "3.10.0"
  }
 },
 "nbformat": 4,
 "nbformat_minor": 2
}
